{
 "cells": [
  {
   "cell_type": "markdown",
   "id": "77b2d87a",
   "metadata": {},
   "source": [
    "# One-Shot Document Classification"
   ]
  },
  {
   "cell_type": "markdown",
   "id": "7659ffda",
   "metadata": {},
   "source": [
    "This jupyter notebook demonstrates the workflow used in the documentation for **Boon AI's Python SDK**. You can find that walk-through [here](https://app.gitbook.com/@zorroa/s/boonsdk/solutions/document-classification).<br>\n",
    "\n",
    "## Setup: "
   ]
  },
  {
   "cell_type": "code",
   "execution_count": 1,
   "id": "893b69b4",
   "metadata": {},
   "outputs": [
    {
     "name": "stdout",
     "output_type": "stream",
     "text": [
      "env: BOONAI_SERVER=https://dev.api.boonai.app\n"
     ]
    }
   ],
   "source": [
    "import boonsdk\n",
    "app = boonsdk.app_from_keyfile(\"./apikey.json\")\n",
    "# In this case, the apikey.json was assigned that name from the web application and stored in the same directory\n",
    "# as the notebook you are working on. Be sure to point to the location and name of your api key. "
   ]
  },
  {
   "cell_type": "markdown",
   "id": "de96f309",
   "metadata": {},
   "source": [
    "## Dataset:\n",
    "Now that we have set up the environment, we can define the dataset. We will be using a sample set comprised of two resumes and two cover letters to train our model. Remember, a dataset is a collection of assets to which a label has been assigned. In order for a model to be trained, it must be attached to a dataset. For more information on datasets, refer to datasets subheading, under custom models in our documentation. You can find it [here](https://app.gitbook.com/@zorroa/s/boonsdk/training-models/datasets)."
   ]
  },
  {
   "cell_type": "code",
   "execution_count": 2,
   "id": "90286052",
   "metadata": {},
   "outputs": [],
   "source": [
    "# Hold onto this dataset, assigning it to an easy to reference variable, because we'll need it later on.\n",
    "dataset = app.datasets.create_dataset(\n",
    "    \"job-documents-dataset\", \n",
    "    boonsdk.DatasetType.Classification\n",
    ")"
   ]
  },
  {
   "cell_type": "markdown",
   "id": "e6d5f404",
   "metadata": {},
   "source": [
    " There is an images.csv file in this directory. It consists of two columns and five rows. The first row is a header. The first column points to the uri for an image and the second applies a label to that image. If you have downloaded this file, be sure to provide the path to your local version of \"images.csv\" By providing labels here we are cerating labels to be associated with the dataset. After running this next block of code, you will recieve an object enumerating errors, number of assets you have created, and number of assets that exist. If you see a number in 'exists', it means that you have attempted to upload a duplicate of a file already in your project. "
   ]
  },
  {
   "cell_type": "code",
   "execution_count": 4,
   "id": "c91cd880",
   "metadata": {},
   "outputs": [
    {
     "data": {
      "text/plain": [
       "{'errors': 0, 'created': 0, 'exists': 4}"
      ]
     },
     "execution_count": 4,
     "metadata": {},
     "output_type": "execute_result"
    }
   ],
   "source": [
    "# If you have downloaded this file, be sure to provide the path to your local version of \"images.csv\"\n",
    "path_to_csv = \"./images.csv\"\n",
    "\n",
    "# The file we're importing has values separated by commas, which is the default delimeter. \n",
    "# Each uri and label is enclosed in double quotes. \n",
    "csvfile = boonsdk.CsvFileImport(path_to_csv,\n",
    "                                uri_column=0,\n",
    "                                dataset=dataset,\n",
    "                                label_column=1,\n",
    "                                max_assets=1000, \n",
    "                                header=True)\n",
    "\n",
    "app.assets.import_csv(csvfile)"
   ]
  },
  {
   "cell_type": "markdown",
   "id": "7a738b11",
   "metadata": {},
   "source": [
    "## Model:\n",
    "Now that we have a dataset imported, we can create and train a model that will predict the type of any future documents we add to this project. We will use a KNN Classifier and attach the dataset we created earlier. "
   ]
  },
  {
   "cell_type": "code",
   "execution_count": 5,
   "id": "6e4c224e",
   "metadata": {},
   "outputs": [],
   "source": [
    "model = app.models.create_model(\n",
    "    \"document-classifier\",\n",
    "    boonsdk.ModelType.KNN_CLASSIFIER,\n",
    "    dataset=dataset\n",
    ")"
   ]
  },
  {
   "cell_type": "markdown",
   "id": "584ee644",
   "metadata": {},
   "source": [
    "## Training: \n",
    "The next step after creating a model with an attached dataset is to train the model. KNN Classifiers are relatively quick to train, so we shouldn't have to wait long for this step to be complete. You can use the job ID returned from the following line of code to check when the training is complete. "
   ]
  },
  {
   "cell_type": "code",
   "execution_count": 6,
   "id": "625cdc79",
   "metadata": {},
   "outputs": [
    {
     "data": {
      "text/plain": [
       "<boonsdk.entity.job.Job at 0x7fbe69f53400>"
      ]
     },
     "execution_count": 6,
     "metadata": {},
     "output_type": "execute_result"
    }
   ],
   "source": [
    "app.models.train_model(model)"
   ]
  },
  {
   "cell_type": "markdown",
   "id": "10c8eb06",
   "metadata": {},
   "source": [
    "## Testing: \n",
    "Be aware that if you run this next block before the model has completed training, you will recieve a \"BoonSdkInvalidRequestException\". Read more [here](https://app.gitbook.com/@zorroa/s/boonsdk/training-models/models/training-a-model) about how you can wait for the job to complete prior to analysis. Now we'll test the model we've trained by providing the url for a single image we would like to classify as either a resume or a cover letter. The result we print is a JSON object with one prediction comprised of a label and a confidence score. If the predicted label returned is 'Unrecognized', that means the model believes what you have provided is not a resume or a cover letter. \n",
    "**Note: this does not upload a new asset, it only analyzed an image you have referred to by url.**"
   ]
  },
  {
   "cell_type": "code",
   "execution_count": 10,
   "id": "6d66d06d",
   "metadata": {},
   "outputs": [
    {
     "ename": "BoonSdkInvalidRequestException",
     "evalue": "<BoonSdkRequestException msg=Your HTTP request was invalid '500', response not JSON formatted. Expecting value: line 1 column 1 (char 0)>",
     "output_type": "error",
     "traceback": [
      "\u001b[0;31m---------------------------------------------------------------------------\u001b[0m",
      "\u001b[0;31mBoonSdkInvalidRequestException\u001b[0m            Traceback (most recent call last)",
      "\u001b[0;32m<ipython-input-10-fbe8c10b3326>\u001b[0m in \u001b[0;36m<module>\u001b[0;34m\u001b[0m\n\u001b[1;32m      1\u001b[0m \u001b[0murl\u001b[0m \u001b[0;34m=\u001b[0m \u001b[0;34m\"https://storage.googleapis.com/zorroa-public/datasets/docs_demo/test/test_resume1.jpg\"\u001b[0m\u001b[0;34m\u001b[0m\u001b[0;34m\u001b[0m\u001b[0m\n\u001b[1;32m      2\u001b[0m \u001b[0;34m\u001b[0m\u001b[0m\n\u001b[0;32m----> 3\u001b[0;31m \u001b[0mresult\u001b[0m \u001b[0;34m=\u001b[0m \u001b[0mapp\u001b[0m\u001b[0;34m.\u001b[0m\u001b[0massets\u001b[0m\u001b[0;34m.\u001b[0m\u001b[0manalyze_file\u001b[0m\u001b[0;34m(\u001b[0m\u001b[0murl\u001b[0m\u001b[0;34m,\u001b[0m \u001b[0;34m[\u001b[0m\u001b[0;34m\"document-classifier\"\u001b[0m\u001b[0;34m]\u001b[0m\u001b[0;34m)\u001b[0m\u001b[0;34m\u001b[0m\u001b[0;34m\u001b[0m\u001b[0m\n\u001b[0m\u001b[1;32m      4\u001b[0m \u001b[0mprint\u001b[0m\u001b[0;34m(\u001b[0m\u001b[0mresult\u001b[0m\u001b[0;34m.\u001b[0m\u001b[0mget_analysis\u001b[0m\u001b[0;34m(\u001b[0m\u001b[0;34m\"document-classifier\"\u001b[0m\u001b[0;34m)\u001b[0m\u001b[0;34m)\u001b[0m\u001b[0;34m\u001b[0m\u001b[0;34m\u001b[0m\u001b[0m\n",
      "\u001b[0;32m/opt/anaconda3/lib/python3.8/site-packages/boonsdk/app/asset_app.py\u001b[0m in \u001b[0;36manalyze_file\u001b[0;34m(self, iostream, modules)\u001b[0m\n\u001b[1;32m     76\u001b[0m \u001b[0;34m\u001b[0m\u001b[0m\n\u001b[1;32m     77\u001b[0m         \u001b[0mqstr\u001b[0m \u001b[0;34m=\u001b[0m \u001b[0;34m','\u001b[0m\u001b[0;34m.\u001b[0m\u001b[0mjoin\u001b[0m\u001b[0;34m(\u001b[0m\u001b[0mmodules\u001b[0m\u001b[0;34m)\u001b[0m\u001b[0;34m\u001b[0m\u001b[0;34m\u001b[0m\u001b[0m\n\u001b[0;32m---> 78\u001b[0;31m         return Asset(self.app.client.send_data(\n\u001b[0m\u001b[1;32m     79\u001b[0m             f'/ml/v1/modules/apply-to-file?modules={qstr}', iostream))\n\u001b[1;32m     80\u001b[0m \u001b[0;34m\u001b[0m\u001b[0m\n",
      "\u001b[0;32m/opt/anaconda3/lib/python3.8/site-packages/boonsdk/client.py\u001b[0m in \u001b[0;36msend_data\u001b[0;34m(self, path, data, size)\u001b[0m\n\u001b[1;32m    142\u001b[0m         \u001b[0mheaders\u001b[0m\u001b[0;34m[\u001b[0m\u001b[0;34m'Content-Length'\u001b[0m\u001b[0;34m]\u001b[0m \u001b[0;34m=\u001b[0m \u001b[0mstr\u001b[0m\u001b[0;34m(\u001b[0m\u001b[0msize\u001b[0m \u001b[0;32mor\u001b[0m \u001b[0msys\u001b[0m\u001b[0;34m.\u001b[0m\u001b[0mgetsizeof\u001b[0m\u001b[0;34m(\u001b[0m\u001b[0mdata\u001b[0m\u001b[0;34m)\u001b[0m\u001b[0;34m)\u001b[0m\u001b[0;34m\u001b[0m\u001b[0;34m\u001b[0m\u001b[0m\n\u001b[1;32m    143\u001b[0m \u001b[0;34m\u001b[0m\u001b[0m\n\u001b[0;32m--> 144\u001b[0;31m         return self.__handle_rsp(requests.post(\n\u001b[0m\u001b[1;32m    145\u001b[0m             self.get_url(path), headers=headers, data=reader.read()), True)\n\u001b[1;32m    146\u001b[0m \u001b[0;34m\u001b[0m\u001b[0m\n",
      "\u001b[0;32m/opt/anaconda3/lib/python3.8/site-packages/boonsdk/client.py\u001b[0m in \u001b[0;36m__handle_rsp\u001b[0;34m(self, rsp, is_json)\u001b[0m\n\u001b[1;32m    404\u001b[0m     \u001b[0;32mdef\u001b[0m \u001b[0m__handle_rsp\u001b[0m\u001b[0;34m(\u001b[0m\u001b[0mself\u001b[0m\u001b[0;34m,\u001b[0m \u001b[0mrsp\u001b[0m\u001b[0;34m,\u001b[0m \u001b[0mis_json\u001b[0m\u001b[0;34m)\u001b[0m\u001b[0;34m:\u001b[0m\u001b[0;34m\u001b[0m\u001b[0;34m\u001b[0m\u001b[0m\n\u001b[1;32m    405\u001b[0m         \u001b[0;32mif\u001b[0m \u001b[0mrsp\u001b[0m\u001b[0;34m.\u001b[0m\u001b[0mstatus_code\u001b[0m \u001b[0;34m!=\u001b[0m \u001b[0;36m200\u001b[0m\u001b[0;34m:\u001b[0m\u001b[0;34m\u001b[0m\u001b[0;34m\u001b[0m\u001b[0m\n\u001b[0;32m--> 406\u001b[0;31m             \u001b[0mself\u001b[0m\u001b[0;34m.\u001b[0m\u001b[0m__raise_exception\u001b[0m\u001b[0;34m(\u001b[0m\u001b[0mrsp\u001b[0m\u001b[0;34m)\u001b[0m\u001b[0;34m\u001b[0m\u001b[0;34m\u001b[0m\u001b[0m\n\u001b[0m\u001b[1;32m    407\u001b[0m         \u001b[0;32mif\u001b[0m \u001b[0mis_json\u001b[0m \u001b[0;32mand\u001b[0m \u001b[0mlen\u001b[0m\u001b[0;34m(\u001b[0m\u001b[0mrsp\u001b[0m\u001b[0;34m.\u001b[0m\u001b[0mcontent\u001b[0m\u001b[0;34m)\u001b[0m\u001b[0;34m:\u001b[0m\u001b[0;34m\u001b[0m\u001b[0;34m\u001b[0m\u001b[0m\n\u001b[1;32m    408\u001b[0m             \u001b[0mrsp_val\u001b[0m \u001b[0;34m=\u001b[0m \u001b[0mrsp\u001b[0m\u001b[0;34m.\u001b[0m\u001b[0mjson\u001b[0m\u001b[0;34m(\u001b[0m\u001b[0;34m)\u001b[0m\u001b[0;34m\u001b[0m\u001b[0;34m\u001b[0m\u001b[0m\n",
      "\u001b[0;32m/opt/anaconda3/lib/python3.8/site-packages/boonsdk/client.py\u001b[0m in \u001b[0;36m__raise_exception\u001b[0;34m(self, rsp)\u001b[0m\n\u001b[1;32m    425\u001b[0m         \u001b[0;31m# If the status code can't be found, then BoonSdkRequestException is returned.\u001b[0m\u001b[0;34m\u001b[0m\u001b[0;34m\u001b[0m\u001b[0;34m\u001b[0m\u001b[0m\n\u001b[1;32m    426\u001b[0m         \u001b[0mex_class\u001b[0m \u001b[0;34m=\u001b[0m \u001b[0mtranslate_exception\u001b[0m\u001b[0;34m(\u001b[0m\u001b[0mrsp\u001b[0m\u001b[0;34m.\u001b[0m\u001b[0mstatus_code\u001b[0m\u001b[0;34m)\u001b[0m\u001b[0;34m\u001b[0m\u001b[0;34m\u001b[0m\u001b[0m\n\u001b[0;32m--> 427\u001b[0;31m         \u001b[0;32mraise\u001b[0m \u001b[0mex_class\u001b[0m\u001b[0;34m(\u001b[0m\u001b[0mdata\u001b[0m\u001b[0;34m)\u001b[0m\u001b[0;34m\u001b[0m\u001b[0;34m\u001b[0m\u001b[0m\n\u001b[0m\u001b[1;32m    428\u001b[0m \u001b[0;34m\u001b[0m\u001b[0m\n\u001b[1;32m    429\u001b[0m     \u001b[0;32mdef\u001b[0m \u001b[0mget_url\u001b[0m\u001b[0;34m(\u001b[0m\u001b[0mself\u001b[0m\u001b[0;34m,\u001b[0m \u001b[0mpath\u001b[0m\u001b[0;34m,\u001b[0m \u001b[0mbody\u001b[0m\u001b[0;34m=\u001b[0m\u001b[0;32mNone\u001b[0m\u001b[0;34m)\u001b[0m\u001b[0;34m:\u001b[0m\u001b[0;34m\u001b[0m\u001b[0;34m\u001b[0m\u001b[0m\n",
      "\u001b[0;31mBoonSdkInvalidRequestException\u001b[0m: <BoonSdkRequestException msg=Your HTTP request was invalid '500', response not JSON formatted. Expecting value: line 1 column 1 (char 0)>"
     ]
    }
   ],
   "source": [
    "\n",
    "url = \"https://storage.googleapis.com/zorroa-public/datasets/docs_demo/test/test_resume1.jpg\"\n",
    "\n",
    "result = app.assets.analyze_file(url, [\"document-classifier\"])\n",
    "print(result.get_analysis(\"document-classifier\"))"
   ]
  },
  {
   "cell_type": "markdown",
   "id": "abea3a14",
   "metadata": {},
   "source": [
    "## Improving Performance\n",
    "There are many different styles of resumes and and you might eventually run into a case where your model fails to recognize the correct type of document.  When this happens you can improve your model's performance by labeling more examples and retraining your model."
   ]
  }
 ],
 "metadata": {
  "kernelspec": {
   "display_name": "Python 3",
   "language": "python",
   "name": "python3"
  },
  "language_info": {
   "codemirror_mode": {
    "name": "ipython",
    "version": 3
   },
   "file_extension": ".py",
   "mimetype": "text/x-python",
   "name": "python",
   "nbconvert_exporter": "python",
   "pygments_lexer": "ipython3",
   "version": "3.8.2"
  }
 },
 "nbformat": 4,
 "nbformat_minor": 5
}
