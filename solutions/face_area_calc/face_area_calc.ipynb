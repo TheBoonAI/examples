{
 "cells": [
  {
   "cell_type": "markdown",
   "id": "little-measurement",
   "metadata": {},
   "source": [
    "## Face Area Calcuator\n",
    "\n",
    "In the following example we're going to use a Boon Function to calculate the area, in pixels, of the largest face detected in an image, then we will save that value into a custom field.   This allows us to filter our library of assets to show the best faces to use for recognition training.\n",
    "\n",
    "A Boon Function is comprised of Python code that gets deployed as a custom model.  The function is called for each Asset that is imported into the system.\n"
   ]
  },
  {
   "cell_type": "code",
   "execution_count": null,
   "id": "gross-population",
   "metadata": {},
   "outputs": [],
   "source": [
    "# Take a look at our Boon Fuction\n",
    "!cat function.py"
   ]
  },
  {
   "cell_type": "markdown",
   "id": "comprehensive-aquarium",
   "metadata": {},
   "source": [
    "## Packaging a Boon Function\n",
    "\n",
    "In order to deploy our Boon Function we simply have to package it in zip file.  This is pretty much true for all uploadable models."
   ]
  },
  {
   "cell_type": "markdown",
   "id": "original-trout",
   "metadata": {},
   "source": [
    "!zip model.zip function.py"
   ]
  },
  {
   "cell_type": "markdown",
   "id": "important-inflation",
   "metadata": {},
   "source": [
    "## Creating the Custom Field\n",
    "\n",
    "As you can see from our Boon Fuction code we're setting the value of the 'face_bbox_area' field to the area in pixels of the largest face.  However before that will actually work we need to create the custom field in our project.  The area in pixels is an integer so the type of our field will be integer as well."
   ]
  },
  {
   "cell_type": "code",
   "execution_count": 8,
   "id": "increasing-reservoir",
   "metadata": {},
   "outputs": [],
   "source": [
    "import boonsdk\n",
    "app = boonsdk.app_from_keyfile(\"apikey.json\")"
   ]
  },
  {
   "cell_type": "code",
   "execution_count": null,
   "id": "suspected-gothic",
   "metadata": {},
   "outputs": [],
   "source": [
    "app.fields.create_field(\"face_bbox_area\", \"integer\")"
   ]
  },
  {
   "cell_type": "code",
   "execution_count": null,
   "id": "promising-identifier",
   "metadata": {},
   "outputs": [],
   "source": [
    "## Creating the Model\n",
    "\n",
    "Before we can deploy our fuction we must create a Model in BoonAI with the proper type.  In this case we require our fuction to\n",
    "run AFTER the boonai-face-detection, so setting it as a dependency means that boonai-face-detection will automaticlaly be included before our\n",
    "face-area-calc module in the asset processing pipeline."
   ]
  },
  {
   "cell_type": "code",
   "execution_count": 9,
   "id": "compact-chicken",
   "metadata": {},
   "outputs": [],
   "source": [
    "try:\n",
    "    model = app.models.create_model(\n",
    "        \"face-area-calc\",\n",
    "        boonsdk.ModelType.BOON_FUNCTION,\n",
    "        dependencies=[\"boonai-face-detection\"]\n",
    "    )\n",
    "except boonsdk.BoonSdkDuplicateException:\n",
    "    model = app.models.get_model(\"face-area-calc\")"
   ]
  },
  {
   "cell_type": "markdown",
   "id": "sunset-silence",
   "metadata": {},
   "source": [
    "## Deploying\n",
    "\n",
    "To deploy, we just call the app.models.upload_pretrained_model() function with our instance of a boonsdk.Model and the\n",
    "model.zip file we just made.  The state of the model will change to 'Deploying' and once it is deployed will change to 'Deployed'.\n",
    "\n",
    "Note that it may take up to 2 minutes before the model is deployed and ready for use.  When you redeploy a new version of\n",
    "your function, the old version will be served until your new version is fully deployed.\n"
   ]
  },
  {
   "cell_type": "code",
   "execution_count": null,
   "id": "broad-latino",
   "metadata": {},
   "outputs": [],
   "source": [
    "app.models.upload_pretrained_model(model, \"model.zip\")"
   ]
  },
  {
   "cell_type": "code",
   "execution_count": null,
   "id": "quality-pillow",
   "metadata": {},
   "outputs": [],
   "source": [
    "def logging_callback(model):\n",
    "     print(model.state)\n",
    "\n",
    "app.models.wait_on_deploy(model, callback=logging_callback)\n"
   ]
  },
  {
   "cell_type": "code",
   "execution_count": null,
   "id": "japanese-bailey",
   "metadata": {},
   "outputs": [],
   "source": [
    "rsp = app.assets.batch_upload_files(\n",
    "    boonsdk.FileUpload(\"face.jpg\"), modules=[\"face-area-calc\"])\n",
    "\n",
    "if app.jobs.wait_on_job(rsp):\n",
    "    asset_id = rsp['created'][0]\n",
    "    asset = app.assets.get_asset(asset_id)\n",
    "    #\n",
    "    # Print the area of the face\n",
    "    # \n",
    "    print(asset.get_attr(\"custom.face_bbox_area\"))\n",
    "else:\n",
    "    print(\"Oh no our job failed!\")\n",
    "    "
   ]
  },
  {
   "cell_type": "code",
   "execution_count": null,
   "id": "rural-austin",
   "metadata": {},
   "outputs": [],
   "source": []
  }
 ],
 "metadata": {
  "kernelspec": {
   "display_name": "Python 3",
   "language": "python",
   "name": "python3"
  },
  "language_info": {
   "codemirror_mode": {
    "name": "ipython",
    "version": 3
   },
   "file_extension": ".py",
   "mimetype": "text/x-python",
   "name": "python",
   "nbconvert_exporter": "python",
   "pygments_lexer": "ipython3",
   "version": "3.8.5"
  }
 },
 "nbformat": 4,
 "nbformat_minor": 5
}
