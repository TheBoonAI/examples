{
 "cells": [
  {
   "cell_type": "markdown",
   "id": "983c7c24",
   "metadata": {},
   "source": [
    "# Automatically organizing a set of images into groups\n",
    "\n",
    "The KNN classifier makes it easy to organize a previously unknown set of images into groups that are semantically consistent. In this section we will look at a workflow that does just that.\n",
    "We are going to use images from the USDA Pomological Watercolors dataset. This is a set of almost 7500 watercolor paintings of fruit, painted between 1886 to 1942."
   ]
  },
  {
   "cell_type": "markdown",
   "id": "658579a6",
   "metadata": {},
   "source": [
    "## Data Preparation"
   ]
  },
  {
   "cell_type": "code",
   "execution_count": null,
   "id": "769f371d",
   "metadata": {},
   "outputs": [],
   "source": [
    "import boonsdk\n",
    "from boonsdk import app_from_env, FileImport\n",
    "\n",
    "%env BOONAI_APIKEY_FILE = apikey.json\n",
    "app = app_from_env()\n",
    "\n",
    "with open('fruits.json', 'r') as file:\n",
    "        fruits = json.load(file)\n",
    "\n",
    "files = []\n",
    "for f in fruits:\n",
    "    name = f['url'].split('id=')[1]\n",
    "    imageURL = 'http://naldc-legacy.nal.usda.gov/pom/' + name + '/screen.jpg'\n",
    "    files.append(FileImport(imageURL))\n",
    "\n",
    "# Import all the files. For a partial import, comment out this part and uncomment the code below\n",
    "while files:\n",
    "    app.assets.batch_import_files(files[:100])\n",
    "    files = files[100:]"
   ]
  },
  {
   "cell_type": "markdown",
   "id": "71f0d0e9",
   "metadata": {},
   "source": [
    "## Preliminary Analysis\n",
    "\n",
    "We'll use Boonlab to plot a t-sne graph of the assets:"
   ]
  },
  {
   "cell_type": "code",
   "execution_count": null,
   "id": "9563f269",
   "metadata": {},
   "outputs": [],
   "source": [
    "from boonlab.plot import plot_tsne\n",
    "\n",
    "x = plot_tsne(thumbs=True, nClusters=1, verbose=False)"
   ]
  },
  {
   "cell_type": "markdown",
   "id": "f6264009",
   "metadata": {},
   "source": [
    "Since there seem to be six clusters, let's make the plot again, asking it to cluster with nClusters=6:"
   ]
  },
  {
   "cell_type": "code",
   "execution_count": null,
   "id": "3d4de2fd",
   "metadata": {},
   "outputs": [],
   "source": [
    "x = plot_tsne(thumbs=True, nClusters=6, verbose=False)"
   ]
  },
  {
   "cell_type": "markdown",
   "id": "b4da52f7",
   "metadata": {},
   "source": [
    "## Creating and Training the Model\n",
    "\n",
    "Here we create an empty dataset, then a model linked to this dataset, and then train and apply.\n",
    "\n",
    "Since we are training a KNN model without labels, the trainer will cluster the assets and then create labels automatically. We set n_clusters to 6 because that was the number of clusters we saw in our analysis above."
   ]
  },
  {
   "cell_type": "code",
   "execution_count": null,
   "id": "fe09418e",
   "metadata": {},
   "outputs": [],
   "source": [
    "# Create an empty dataset\n",
    "dataset = app.datasets.create_dataset(\n",
    "    \"fruits\", \n",
    "    boonsdk.DatasetType.Classification\n",
    ")\n",
    "\n",
    "# Create a model and attach our empty dataset\n",
    "model = app.models.create_model(\n",
    "    \"fruit-groups\",\n",
    "    boonsdk.ModelType.KNN_CLASSIFIER,\n",
    "    dataset=dataset\n",
    ")\n",
    "\n",
    "# Launch the training job\n",
    "training_job = app.models.train_model(model, train_args={'n_clusters': 6})\n",
    "\n",
    "# Wait for training to complete\n",
    "app.jobs.wait_on_job(training_job)\n",
    "\n",
    "# Apply the model to our assets\n",
    "apply_job = app.models.apply_model(model)\n",
    "\n",
    "# Wait for apply to complete\n",
    "app.jobs.wait_on_job(apply_job)\n"
   ]
  },
  {
   "cell_type": "markdown",
   "id": "cf6e1d1e",
   "metadata": {},
   "source": [
    "## Visualize Results\n",
    "\n",
    "Once the apply_model job above is done, we can see the results here. It is also easy and convenient to use the Visualizer in the Boon AI console to see the results."
   ]
  },
  {
   "cell_type": "code",
   "execution_count": null,
   "id": "f580a0ba",
   "metadata": {
    "scrolled": false
   },
   "outputs": [],
   "source": [
    "import ipyplot\n",
    "from PIL import Image\n",
    "\n",
    "images = []\n",
    "labels = []\n",
    "\n",
    "for group in range(0, 6):\n",
    "    search = {\"size\": 6, \"query\":{\"bool\":{\"must\":[{\"simple_query_string\":{\"query\":\"auto group \" + str(group)}}]}}}\n",
    "\n",
    "    for asset in app.assets.search(search):\n",
    "        thumbnail = asset.get_files(category=\"web-proxy\")[0]\n",
    "        images.append(Image.open(app.assets.download_file(thumbnail)))\n",
    "        labels.append(asset.get_attr(\"analysis.fruit-groups.predictions\")[0]['label'])\n",
    "\n",
    "ipyplot.plot_images(images, labels, img_width=150)"
   ]
  }
 ],
 "metadata": {
  "kernelspec": {
   "display_name": "Python 3 (ipykernel)",
   "language": "python",
   "name": "python3"
  },
  "language_info": {
   "codemirror_mode": {
    "name": "ipython",
    "version": 3
   },
   "file_extension": ".py",
   "mimetype": "text/x-python",
   "name": "python",
   "nbconvert_exporter": "python",
   "pygments_lexer": "ipython3",
   "version": "3.7.11"
  },
  "toc": {
   "base_numbering": 1,
   "nav_menu": {},
   "number_sections": true,
   "sideBar": true,
   "skip_h1_title": false,
   "title_cell": "Table of Contents",
   "title_sidebar": "Contents",
   "toc_cell": false,
   "toc_position": {},
   "toc_section_display": true,
   "toc_window_display": false
  }
 },
 "nbformat": 4,
 "nbformat_minor": 5
}
