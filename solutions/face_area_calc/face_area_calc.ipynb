{
 "cells": [
  {
   "cell_type": "markdown",
   "id": "inner-warrior",
   "metadata": {},
   "source": [
    "## Face Area Calcuator\n",
    "\n",
    "In the following example we're going to use a Boon Function to calculate the area, in pixels, of the largest face detected in an image, then we will save that value into a custom field.   This allows us to filter our library of assets to show the best faces to use for recognition training.\n",
    "\n",
    "A Boon Function is comprised of Python code that gets deployed as a custom model.  The function is called for each Asset that is imported into the system.\n"
   ]
  },
  {
   "cell_type": "code",
   "execution_count": 2,
   "id": "increasing-notion",
   "metadata": {},
   "outputs": [
    {
     "name": "stdout",
     "output_type": "stream",
     "text": [
      "\n",
      "from boonsdk.util import denormalize_bbox\n",
      "from boonsdk.func import FunctionResponse\n",
      "\n",
      "def process(asset):\n",
      "\n",
      "    # First grab the height and width of the asset itself, we'll need these\n",
      "    # calculate the area later on.\n",
      "    width = asset.get_attr(\"media.width\")\n",
      "    height = asset.get_attr(\"media.height\")\n",
      "    \n",
      "    # There could be multiple faces, so we'll stash the area of our biggest\n",
      "    # face into the big_face variable.\n",
      "    big_face = 0\n",
      "    \n",
      "    # Not iterate detected faces, calculate the area and keep track of the largest one.\n",
      "    attr = \"analysis.boonai-face-detection.predictions\"\n",
      "    faces = asset.get_attr(attr)\n",
      "    if faces:\n",
      "        for face in faces:\n",
      "            bbox = denormalize_bbox(width, height, face['bbox'])\n",
      "            area = abs(bbox[0]-bbox[2]) * abs(bbox[1]-bbox[3])\n",
      "            if area > big_face:\n",
      "                big_face = area\n",
      "   \n",
      "        if big_face:\n",
      "            # Take our big face and set the value of the face_bbox_area custom fieid.\n",
      "            rsp = FunctionResponse()\n",
      "            rsp.set_custom_field(\"face_bbox_area\", big_face)\n",
      "            return rsp\n",
      "    \n",
      "    # It's ok to return None to indicate no modifications to asset.\n",
      "    return None"
     ]
    }
   ],
   "source": [
    "# Take a look at our Boon Fuction\n",
    "!cat function.py"
   ]
  },
  {
   "cell_type": "markdown",
   "id": "modified-harbor",
   "metadata": {},
   "source": [
    "## Packaging a Boon Function\n",
    "\n",
    "In order to deploy our Boon Function we simply have to package it in zip file.  This is pretty much true for all uploadable models."
   ]
  },
  {
   "cell_type": "markdown",
   "id": "sensitive-publication",
   "metadata": {},
   "source": [
    "!zip model.zip function.py"
   ]
  },
  {
   "cell_type": "markdown",
   "id": "swedish-international",
   "metadata": {},
   "source": [
    "## Creating the Custom Field\n",
    "\n",
    "As you can see from our Boon Fuction code we're setting the value of the 'face_bbox_area' field to the area in pixels of the largest face.  However before that will actually work we need to create the custom field in our project.  The area in pixels is an integer so the type of our field will be integer as well."
   ]
  },
  {
   "cell_type": "code",
   "execution_count": null,
   "id": "arctic-magnitude",
   "metadata": {},
   "outputs": [],
   "source": [
    "app.fields.create_field(\"face_bbox_area\", \"integer\")"
   ]
  },
  {
   "cell_type": "code",
   "execution_count": 3,
   "id": "allied-conversion",
   "metadata": {},
   "outputs": [],
   "source": [
    "## Creating the Model\n",
    "\n",
    "Before we can deploy our fuction we must create a Model in BoonAI with the proper type.  In this case we require our fuction to\n",
    "run AFTER the boonai-face-detection, so setting it as a dependency means that boonai-face-detection will automaticlaly be included before our\n",
    "face-area-calc module in the asset processing pipeline."
   ]
  },
  {
   "cell_type": "code",
   "execution_count": 3,
   "id": "cloudy-manufacturer",
   "metadata": {},
   "outputs": [],
   "source": [
    "model = app.models.create_model(\n",
    "    \"face-area-calc\",\n",
    "    boonsdk.ModelType.BOON_FUNCTION,\n",
    "    dependencies=[\"boonai-face-detection\"]\n",
    ")"
   ]
  },
  {
   "cell_type": "code",
   "execution_count": 3,
   "id": "identical-float",
   "metadata": {},
   "outputs": [],
   "source": [
    "# If the model aready exists we can just grab it by name\n",
    "model = app.models.get_model(\"face-area-calc\")"
   ]
  },
  {
   "cell_type": "markdown",
   "id": "abandoned-doctrine",
   "metadata": {},
   "source": [
    "## Deploying\n",
    "\n",
    "To deploy, we just call the app.models.upload_pretrained_model() function with our instance of a boonsdk.Model and the\n",
    "model.zip file we just made.  The state of the model will change to 'Deploying' and once it is deployed will change to 'Deployed'.\n",
    "\n",
    "Note that it may take up to 2 minutes before the model is deployed and ready for use.  When you redeploy a new version of\n",
    "your function, the old version will be served until your new version is fully deployed.\n"
   ]
  },
  {
   "cell_type": "code",
   "execution_count": null,
   "id": "urban-belgium",
   "metadata": {},
   "outputs": [],
   "source": [
    "app.models.upload_pretrained_model(model, \"model.zip\")"
   ]
  },
  {
   "cell_type": "code",
   "execution_count": null,
   "id": "lined-charter",
   "metadata": {},
   "outputs": [],
   "source": []
  }
 ],
 "metadata": {
  "kernelspec": {
   "display_name": "Python 3",
   "language": "python",
   "name": "python3"
  },
  "language_info": {
   "codemirror_mode": {
    "name": "ipython",
    "version": 3
   },
   "file_extension": ".py",
   "mimetype": "text/x-python",
   "name": "python",
   "nbconvert_exporter": "python",
   "pygments_lexer": "ipython3",
   "version": "3.8.5"
  }
 },
 "nbformat": 4,
 "nbformat_minor": 5
}
