{
 "cells": [
  {
   "cell_type": "markdown",
   "id": "material-protocol",
   "metadata": {},
   "source": [
    "## Setup\n",
    "\n",
    "For this notebook to function you will need to generate a BoonAI API key.\n",
    "Visit https://boonai.app and see the API Key section.Save the key into this\n",
    "directory and name the file \"apikey.json\".\n",
    "\n",
    "You can find additional information reguardig this walkthough in the BoonAI documenation.\n",
    "https://docs.boonai.app/boonsdk/solutions/product-catalog-similarity\n"
   ]
  },
  {
   "cell_type": "code",
   "execution_count": null,
   "id": "satisfactory-involvement",
   "metadata": {},
   "outputs": [],
   "source": [
    "import boonsdk\n",
    "\n",
    "app = boonsdk.app_from_keyfile(\"apikey.json\")"
   ]
  },
  {
   "cell_type": "markdown",
   "id": "sorted-panel",
   "metadata": {},
   "source": [
    "## Fetch CSV Data\n",
    "\n",
    "To get the CSV file open to link below, click on \"images.csv\" in in the data explorer, and then \n",
    "the download button on the far right hand side of screen. This will download the CSV file to your local drive.\n",
    "\n",
    "https://www.kaggle.com/paramaggarwal/fashion-product-images-dataset"
   ]
  },
  {
   "cell_type": "code",
   "execution_count": null,
   "id": "published-strategy",
   "metadata": {},
   "outputs": [],
   "source": [
    "# Change this to point to your images.csv file.\n",
    "path_to_csv = \"~/Downloads/images.csv\""
   ]
  },
  {
   "cell_type": "code",
   "execution_count": null,
   "id": "protective-friday",
   "metadata": {},
   "outputs": [],
   "source": [
    "# max_assets limits the number of assets to import from the CSV.  This\n",
    "# allows us to take a small sample from the CSV which has 44k products.\n",
    "max_assets = 1000\n",
    "\n",
    "# Create a CsvFileImport instance. This doesn't actually perform the CSV, it simply allows you\n",
    "# away to configure how the CSV will be parsed.\n",
    "csvimport = boonsdk.CsvFileImport(path_to_csv, \n",
    "                                  uri_column=1,\n",
    "                                  max_assets=max_assets, \n",
    "                                  header=True)\n",
    "                               "
   ]
  },
  {
   "cell_type": "markdown",
   "id": "bizarre-enlargement",
   "metadata": {},
   "source": [
    "## Inspect CSV Items\n",
    "\n",
    "Before submitting your CsvFileImport to be imported it's a good idea to check to ensure the CSV \n",
    "is being parsed correctly and you picked the proper URI column.  The URI column can contain various \n",
    "types of URIs including: HTTP, HTTPS, S3, GS, and AZURE."
   ]
  },
  {
   "cell_type": "code",
   "execution_count": null,
   "id": "dressed-arabic",
   "metadata": {},
   "outputs": [],
   "source": [
    "# Look at the first item in the first batch.\n",
    "item1 = list(csvfile)[0][0]\n",
    "print(item1.uri)"
   ]
  },
  {
   "cell_type": "markdown",
   "id": "bridal-arrow",
   "metadata": {},
   "source": [
    "## Perform The Import\n",
    "\n",
    "Importing the CSV will create an import job.  You can monitor this job at https://boonai.app or \n",
    "use the API to wait on the job to complete.\n",
    "\n",
    "We're also adding boonai-label-detection to this import to provide us with some predictions to work with later."
   ]
  },
  {
   "cell_type": "code",
   "execution_count": null,
   "id": "opposite-halloween",
   "metadata": {},
   "outputs": [],
   "source": [
    "app.asset.import_csv(csvfile, modules=[\"boonai-label-detection\"])"
   ]
  },
  {
   "cell_type": "markdown",
   "id": "tutorial-piece",
   "metadata": {},
   "source": [
    "## Building an Image Similarity Query\n",
    "\n",
    "Once the import has completed we can now do a search. Our goal is to search is to find people wearing a striped shirt and jeans.\n",
    "\n",
    "First we have to make a similarity query by passing our query image to the <i>app.assets.get_sim_query()</i> function.  \n",
    "Additionally we're adding a filter on  boonai-label-detection< for the label 'jean' which will filter the results to \n",
    "people wearing jeans, as detected by the boonai-label-detection module. \n"
   ]
  },
  {
   "cell_type": "code",
   "execution_count": null,
   "id": "comic-ethernet",
   "metadata": {},
   "outputs": [],
   "source": [
    "img_path = \"striped-shirt.jpg\"\n",
    "search = {\n",
    "    \"query\": {\n",
    "        \"bool\": {\n",
    "            \"must\": [\n",
    "                app.assets.get_sim_query(img_path, min_score=0.75)\n",
    "            ],\n",
    "            \"filter\": [\n",
    "              boonsdk.search.LabelConfidenceQuery(\n",
    "                    \"boonai-label-detection\", [\"jean\"], 0.1, 1.0\n",
    "                )   \n",
    "            ]\n",
    "        }\n",
    "    },\n",
    "    \"size\": 20\n",
    "}"
   ]
  },
  {
   "cell_type": "markdown",
   "id": "shaped-stamp",
   "metadata": {},
   "source": [
    "## Displaying Results\n",
    "\n",
    "To display the results we're going to download the web-proxy (smaller lower quality jpeg) and display\n",
    "using ipyplot.  Additionally we're adding the search score as label on our table of images. "
   ]
  },
  {
   "cell_type": "code",
   "execution_count": null,
   "id": "equipped-brand",
   "metadata": {},
   "outputs": [],
   "source": [
    "import ipyplot\n",
    "from PIL import Image\n",
    "\n",
    "\n",
    "images = []\n",
    "labels = []\n",
    "for asset in app.assets.search(search):\n",
    "    thumbnail = asset.get_files(category=\"web-proxy\")[0]\n",
    "    images.append(Image.open(app.assets.download_file(thumbnail)))\n",
    "    labels.append(asset.score)\n",
    "\n",
    "ipyplot.plot_images(images, labels, max_images=20, img_width=100)"
   ]
  }
 ],
 "metadata": {
  "kernelspec": {
   "display_name": "Python 3",
   "language": "python",
   "name": "python3"
  },
  "language_info": {
   "codemirror_mode": {
    "name": "ipython",
    "version": 3
   },
   "file_extension": ".py",
   "mimetype": "text/x-python",
   "name": "python",
   "nbconvert_exporter": "python",
   "pygments_lexer": "ipython3",
   "version": "3.8.5"
  }
 },
 "nbformat": 4,
 "nbformat_minor": 5
}
