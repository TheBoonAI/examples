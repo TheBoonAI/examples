{
 "cells": [
  {
   "cell_type": "markdown",
   "id": "e80e61c2",
   "metadata": {},
   "source": [
    "This tutorial will demonstrate how you can train a PyTorch model to solve one classification problem and then use that model, with a few small changes, to solve a different classification problem. When we re-use a model in this way, it is called tranfer learning. \n",
    "\n",
    "The benefits: learning can be faster, more accurate, and does not require a large amount of training data and time spent on designing the solution to a problem is signifigantly less because you are reusing a model you have already trained."
   ]
  },
  {
   "cell_type": "code",
   "execution_count": 1,
   "id": "641a5b19",
   "metadata": {},
   "outputs": [],
   "source": [
    "#torch-specific imports\n",
    "import torch\n",
    "import torch.nn as nn\n",
    "import torch.optim as optim\n",
    "from torch.optim import lr_scheduler"
   ]
  },
  {
   "cell_type": "markdown",
   "id": "40bea3a8",
   "metadata": {},
   "source": [
    "We'll also import some utilities to make it easier to work with our data. dataLoader allows us to import an entire folder of images and torchvision will allow us to visualize what we are doing with the data. (need to look up exactly what these do to make it read correctly)"
   ]
  },
  {
   "cell_type": "code",
   "execution_count": 2,
   "id": "39e49f48",
   "metadata": {},
   "outputs": [],
   "source": [
    "#torchvision\n",
    "import torchvision\n",
    "from torchvision import datasets, models, transforms"
   ]
  },
  {
   "cell_type": "code",
   "execution_count": 3,
   "id": "12cf6e42",
   "metadata": {},
   "outputs": [],
   "source": [
    "import matplotlib.pyplot as plt\n",
    "import numpy as np\n",
    "import time\n",
    "import os\n",
    "import copy"
   ]
  },
  {
   "cell_type": "markdown",
   "id": "9868b648",
   "metadata": {},
   "source": [
    "This is our scenario: we are working on labeling images with the types of furniture they feature. We have a small dataset and we've used it to train a model to recognize dressers. The model categorized an image as containing a dresser or not containing a dresser. Now we want to be able to reuse this model for a similar classification problem. We want our model to be able to recognize chairs as well as a more specific type of chair, a swivel chair. We only need a small statset to do this and we will only be trainig the last fully connected layer. Remember, using this approach will save us time and our classifcation will be more accurate even though we are using only a small set of images to train the new model. "
   ]
  },
  {
   "cell_type": "code",
   "execution_count": 4,
   "id": "8493d96e",
   "metadata": {},
   "outputs": [],
   "source": [
    "#might come back and make use of these if more clarity in process needed\n",
    "#import torch.nn.functional as F\n",
    "#from torch.utils.data import DataLoader\n",
    "#from torchvision.utils import make_grid\n",
    "#from torchvision import models, transforms, datasets"
   ]
  },
  {
   "cell_type": "markdown",
   "id": "d077d5bb",
   "metadata": {},
   "source": [
    "This next line of code tells pytorch where we are getting our computing power. In this case, we are using the local cpu, but alternatively, we could use cuda if we are working with a gpu (again clarify this)"
   ]
  },
  {
   "cell_type": "code",
   "execution_count": 5,
   "id": "6efeda9e",
   "metadata": {},
   "outputs": [],
   "source": [
    "device = torch.device('cpu')\n",
    "#altered from the line with cuda\n",
    "#device = torch.device(\"cuda:0\" if torch.cuda.is_available() else \"cpu\")"
   ]
  },
  {
   "cell_type": "markdown",
   "id": "7368f629",
   "metadata": {},
   "source": [
    "On to getting the data. In this case we already have a set of 16 images. Eight of these are dresser images and eight are not dressers. These are located in the project folder. We'll add those now. Note: this should point to a directory containing a train and test folder which each contain images for each class. Our two classes in this demonstration are chair and swivel chair"
   ]
  },
  {
   "cell_type": "code",
   "execution_count": 7,
   "id": "be91c030",
   "metadata": {},
   "outputs": [],
   "source": [
    "dir_data = './data/furniture_task'"
   ]
  },
  {
   "cell_type": "code",
   "execution_count": 11,
   "id": "26ac2120",
   "metadata": {},
   "outputs": [],
   "source": [
    "mean = np.array([0.5, 0.5, 0.5])\n",
    "std = np.array([0.25, 0.25, 0.25])"
   ]
  },
  {
   "cell_type": "code",
   "execution_count": 12,
   "id": "149d3ed7",
   "metadata": {},
   "outputs": [],
   "source": [
    "data_transforms = {\n",
    "    'train': transforms.Compose([\n",
    "        transforms.RandomResizedCrop(224),\n",
    "        transforms.RandomHorizontalFlip(),\n",
    "        transforms.ToTensor(),\n",
    "        transforms.Normalize(mean, std)\n",
    "    ]),\n",
    "    'val': transforms.Compose([\n",
    "        transforms.Resize(256),\n",
    "        transforms.CenterCrop(224),\n",
    "        transforms.ToTensor(),\n",
    "        transforms.Normalize(mean, std)\n",
    "    ]),\n",
    "}"
   ]
  },
  {
   "cell_type": "code",
   "execution_count": 14,
   "id": "e12cb719",
   "metadata": {},
   "outputs": [],
   "source": [
    "image_datasets = {x: datasets.ImageFolder(os.path.join(dir_data, x), \n",
    "                                          data_transforms[x])\n",
    "                for x in ['train', 'val']}\n",
    "\n",
    "dataloaders = {x: torch.utils.data.DataLoader(image_datasets[x], \n",
    "                                              batch_size=5,shuffle=True, num_workers=0)\n",
    "                for x in ['train', 'val']}\n",
    "\n",
    "dataset_sizes = {x: len(image_datasets[x]) for x in ['train', 'val']}\n",
    "class_names = image_datasets['train'].classes"
   ]
  },
  {
   "cell_type": "code",
   "execution_count": 19,
   "id": "6e069ba0",
   "metadata": {},
   "outputs": [
    {
     "name": "stdout",
     "output_type": "stream",
     "text": [
      "['chair', 'swivel_chair']\n"
     ]
    }
   ],
   "source": [
    "print(class_names)"
   ]
  },
  {
   "cell_type": "code",
   "execution_count": 20,
   "id": "b1f7d1df",
   "metadata": {},
   "outputs": [],
   "source": [
    "def imshow(inp, title):\n",
    "    inp = inp.numpy().transpose((1, 2, 0))\n",
    "    inp = std * inp + mean\n",
    "    inp = np.clip(inp, 0, 1)\n",
    "    plt.imshow(inp)\n",
    "    plt.title(title)\n",
    "    plt.show()"
   ]
  },
  {
   "cell_type": "code",
   "execution_count": 21,
   "id": "67df54ca",
   "metadata": {},
   "outputs": [],
   "source": [
    "# Get a batch of training data\n",
    "inputs, classes = next(iter(dataloaders['train']))\n",
    "\n",
    "# Make a grid from batch\n",
    "out = torchvision.utils.make_grid(inputs)"
   ]
  },
  {
   "cell_type": "code",
   "execution_count": 22,
   "id": "27132b38",
   "metadata": {},
   "outputs": [
    {
     "data": {
      "image/png": "[encoded data removed]",
      "text/plain": [
       "<Figure size 432x288 with 1 Axes>"
      ]
     },
     "metadata": {
      "needs_background": "light"
     },
     "output_type": "display_data"
    }
   ],
   "source": [
    "imshow(out, title=[class_names[x] for x in classes])"
   ]
  },
  {
   "cell_type": "code",
   "execution_count": 25,
   "id": "0f88f275",
   "metadata": {},
   "outputs": [],
   "source": [
    "def train_model(model, criterion, optimizer, scheduler, num_epochs=25):\n",
    "    since = time.time()\n",
    "\n",
    "    best_model_wts = copy.deepcopy(model.state_dict())\n",
    "    best_acc = 0.0\n",
    "\n",
    "    for epoch in range(num_epochs):\n",
    "        print('Epoch {}/{}'.format(epoch, num_epochs - 1))\n",
    "        print('-' * 10)\n",
    "\n",
    "        for phase in ['train', 'val']:\n",
    "            if phase == 'train':\n",
    "                model.train()  # Set model to training mode\n",
    "            else:\n",
    "                model.eval()   # Set model to evaluate mode\n",
    "\n",
    "            running_loss = 0.0\n",
    "            running_corrects = 0\n",
    "\n",
    "            # Iterate over data.\n",
    "            for inputs, labels in dataloaders[phase]:\n",
    "                inputs = inputs.to(device)\n",
    "                labels = labels.to(device)\n",
    "\n",
    "                with torch.set_grad_enabled(phase == 'train'):\n",
    "                    outputs = model(inputs)\n",
    "                    _, preds = torch.max(outputs, 1)\n",
    "                    loss = criterion(outputs, labels)\n",
    "\n",
    "                    # backward + optimize only if in training phase\n",
    "                    if phase == 'train':\n",
    "                        optimizer.zero_grad()\n",
    "                        loss.backward()\n",
    "                        optimizer.step()\n",
    "\n",
    "                # statistics\n",
    "                running_loss += loss.item() * inputs.size(0)\n",
    "                running_corrects += torch.sum(preds == labels.data)\n",
    "\n",
    "            if phase == 'train':\n",
    "                scheduler.step()\n",
    "\n",
    "            epoch_loss = running_loss / dataset_sizes[phase]\n",
    "            epoch_acc = running_corrects.double() / dataset_sizes[phase]\n",
    "\n",
    "            print('{} Loss: {:.4f} Acc: {:.4f}'.format(\n",
    "                phase, epoch_loss, epoch_acc))\n",
    "\n",
    "            # deep copy the model\n",
    "            if phase == 'val' and epoch_acc > best_acc:\n",
    "                best_acc = epoch_acc\n",
    "                best_model_wts = copy.deepcopy(model.state_dict())\n",
    "\n",
    "        print()\n",
    "        \n",
    "    time_elapsed = time.time() - since\n",
    "    print('Training complete in {:.0f}m {:.0f}s'.format(\n",
    "        time_elapsed // 60, time_elapsed % 60))\n",
    "    print('Best val Acc: {:4f}'.format(best_acc))\n",
    "\n",
    "    # load best model weights\n",
    "    model.load_state_dict(best_model_wts)\n",
    "    return model"
   ]
  },
  {
   "cell_type": "code",
   "execution_count": 26,
   "id": "f0c41f95",
   "metadata": {},
   "outputs": [
    {
     "name": "stderr",
     "output_type": "stream",
     "text": [
      "Downloading: \"https://download.pytorch.org/models/resnet18-f37072fd.pth\" to /Users/audreymaldonado/.cache/torch/hub/checkpoints/resnet18-f37072fd.pth\n"
     ]
    },
    {
     "data": {
      "application/vnd.jupyter.widget-view+json": {
       "model_id": "f9e9995f14214d96b495239a1cf87811",
       "version_major": 2,
       "version_minor": 0
      },
      "text/plain": [
       "  0%|          | 0.00/44.7M [00:00<?, ?B/s]"
      ]
     },
     "metadata": {},
     "output_type": "display_data"
    }
   ],
   "source": [
    "#### Finetuning the convnet ####\n",
    "# Load a pretrained model and reset final fully connected layer.\n",
    "\n",
    "model = models.resnet18(pretrained=True)\n",
    "num_ftrs = model.fc.in_features"
   ]
  },
  {
   "cell_type": "code",
   "execution_count": 27,
   "id": "2aa42b4d",
   "metadata": {},
   "outputs": [],
   "source": [
    "# Here the size of each output sample is set to 2.\n",
    "# Alternatively, it can be generalized to nn.Linear(num_ftrs, len(class_names)).\n",
    "model.fc = nn.Linear(num_ftrs, 2)\n",
    "\n",
    "model = model.to(device)\n",
    "\n",
    "criterion = nn.CrossEntropyLoss()"
   ]
  },
  {
   "cell_type": "code",
   "execution_count": 28,
   "id": "7f968a83",
   "metadata": {},
   "outputs": [],
   "source": [
    "# Observe that all parameters are being optimized\n",
    "optimizer = optim.SGD(model.parameters(), lr=0.001)"
   ]
  },
  {
   "cell_type": "code",
   "execution_count": 29,
   "id": "285edb18",
   "metadata": {},
   "outputs": [],
   "source": [
    "# StepLR Decays the learning rate of each parameter group by gamma every step_size epochs\n",
    "# Decay LR by a factor of 0.1 every 7 epochs\n",
    "# Learning rate scheduling should be applied after optimizer’s update\n",
    "# e.g., you should write your code this way:\n",
    "# for epoch in range(100):\n",
    "#     train(...)\n",
    "#     validate(...)\n",
    "#     scheduler.step()"
   ]
  },
  {
   "cell_type": "code",
   "execution_count": 30,
   "id": "646fa1a6",
   "metadata": {},
   "outputs": [],
   "source": [
    "step_lr_scheduler = lr_scheduler.StepLR(optimizer, step_size=7, gamma=0.1)"
   ]
  },
  {
   "cell_type": "code",
   "execution_count": 31,
   "id": "a640b7dd",
   "metadata": {},
   "outputs": [
    {
     "name": "stdout",
     "output_type": "stream",
     "text": [
      "Epoch 0/24\n",
      "----------\n"
     ]
    },
    {
     "name": "stderr",
     "output_type": "stream",
     "text": [
      "/opt/anaconda3/lib/python3.8/site-packages/torch/nn/functional.py:718: UserWarning: Named tensors and all their associated APIs are an experimental feature and subject to change. Please do not use them for anything important until they are released as stable. (Triggered internally at  ../c10/core/TensorImpl.h:1156.)\n",
      "  return torch.max_pool2d(input, kernel_size, stride, padding, dilation, ceil_mode)\n"
     ]
    },
    {
     "name": "stdout",
     "output_type": "stream",
     "text": [
      "train Loss: 0.7354 Acc: 0.5429\n",
      "val Loss: 0.5686 Acc: 0.7667\n",
      "\n",
      "Epoch 1/24\n",
      "----------\n",
      "train Loss: 0.6736 Acc: 0.5143\n",
      "val Loss: 0.5268 Acc: 0.8000\n",
      "\n",
      "Epoch 2/24\n",
      "----------\n",
      "train Loss: 0.6081 Acc: 0.6571\n",
      "val Loss: 0.5048 Acc: 0.8000\n",
      "\n",
      "Epoch 3/24\n",
      "----------\n",
      "train Loss: 0.5431 Acc: 0.8286\n",
      "val Loss: 0.4334 Acc: 0.8667\n",
      "\n",
      "Epoch 4/24\n",
      "----------\n",
      "train Loss: 0.4833 Acc: 0.8571\n",
      "val Loss: 0.3908 Acc: 0.8667\n",
      "\n",
      "Epoch 5/24\n",
      "----------\n",
      "train Loss: 0.5067 Acc: 0.7429\n",
      "val Loss: 0.3727 Acc: 0.9000\n",
      "\n",
      "Epoch 6/24\n",
      "----------\n",
      "train Loss: 0.5849 Acc: 0.6857\n",
      "val Loss: 0.3507 Acc: 0.9000\n",
      "\n",
      "Epoch 7/24\n",
      "----------\n",
      "train Loss: 0.4553 Acc: 0.8857\n",
      "val Loss: 0.3599 Acc: 0.9000\n",
      "\n",
      "Epoch 8/24\n",
      "----------\n",
      "train Loss: 0.4666 Acc: 0.8000\n",
      "val Loss: 0.3601 Acc: 0.8667\n",
      "\n",
      "Epoch 9/24\n",
      "----------\n",
      "train Loss: 0.4962 Acc: 0.8000\n",
      "val Loss: 0.3569 Acc: 0.9000\n",
      "\n",
      "Epoch 10/24\n",
      "----------\n",
      "train Loss: 0.4868 Acc: 0.8571\n",
      "val Loss: 0.3605 Acc: 0.9000\n",
      "\n",
      "Epoch 11/24\n",
      "----------\n",
      "train Loss: 0.5013 Acc: 0.8286\n",
      "val Loss: 0.3626 Acc: 0.9000\n",
      "\n",
      "Epoch 12/24\n",
      "----------\n",
      "train Loss: 0.4149 Acc: 0.8571\n",
      "val Loss: 0.3596 Acc: 0.9000\n",
      "\n",
      "Epoch 13/24\n",
      "----------\n",
      "train Loss: 0.3453 Acc: 0.9429\n",
      "val Loss: 0.3447 Acc: 0.9000\n",
      "\n",
      "Epoch 14/24\n",
      "----------\n",
      "train Loss: 0.3765 Acc: 0.9143\n",
      "val Loss: 0.3530 Acc: 0.8667\n",
      "\n",
      "Epoch 15/24\n",
      "----------\n",
      "train Loss: 0.4350 Acc: 0.8857\n",
      "val Loss: 0.3599 Acc: 0.8667\n",
      "\n",
      "Epoch 16/24\n",
      "----------\n",
      "train Loss: 0.4579 Acc: 0.8571\n",
      "val Loss: 0.3633 Acc: 0.8667\n",
      "\n",
      "Epoch 17/24\n",
      "----------\n",
      "train Loss: 0.4331 Acc: 0.8286\n",
      "val Loss: 0.3545 Acc: 0.9000\n",
      "\n",
      "Epoch 18/24\n",
      "----------\n",
      "train Loss: 0.4540 Acc: 0.8571\n",
      "val Loss: 0.3673 Acc: 0.9000\n",
      "\n",
      "Epoch 19/24\n",
      "----------\n",
      "train Loss: 0.4278 Acc: 0.8286\n",
      "val Loss: 0.3518 Acc: 0.9000\n",
      "\n",
      "Epoch 20/24\n",
      "----------\n",
      "train Loss: 0.4219 Acc: 0.8857\n",
      "val Loss: 0.3517 Acc: 0.8667\n",
      "\n",
      "Epoch 21/24\n",
      "----------\n",
      "train Loss: 0.4172 Acc: 0.8571\n",
      "val Loss: 0.3453 Acc: 0.8667\n",
      "\n",
      "Epoch 22/24\n",
      "----------\n",
      "train Loss: 0.4385 Acc: 0.8286\n",
      "val Loss: 0.3460 Acc: 0.8667\n",
      "\n",
      "Epoch 23/24\n",
      "----------\n",
      "train Loss: 0.4798 Acc: 0.8286\n",
      "val Loss: 0.3547 Acc: 0.9000\n",
      "\n",
      "Epoch 24/24\n",
      "----------\n",
      "train Loss: 0.5261 Acc: 0.8000\n",
      "val Loss: 0.3493 Acc: 0.9333\n",
      "\n",
      "Training complete in 3m 22s\n",
      "Best val Acc: 0.933333\n"
     ]
    }
   ],
   "source": [
    "model = train_model(model, criterion, optimizer,\n",
    "                    step_lr_scheduler, num_epochs=25)"
   ]
  },
  {
   "cell_type": "code",
   "execution_count": 32,
   "id": "718ade8f",
   "metadata": {},
   "outputs": [],
   "source": [
    "# Freeze all but last fully connected layer\n",
    "# We need to set requires_grad == False to freeze the parameters so that the gradients are not computed in backward()\n",
    "\n",
    "model_conv = torchvision.models.resnet18(pretrained=True)\n",
    "for param in model_conv.parameters():\n",
    "    param.requires_grad = False"
   ]
  },
  {
   "cell_type": "code",
   "execution_count": 33,
   "id": "77610fd8",
   "metadata": {},
   "outputs": [],
   "source": [
    "# Parameters of newly constructed modules have requires_grad=True by default\n",
    "\n",
    "num_ftrs = model_conv.fc.in_features\n",
    "model_conv.fc = nn.Linear(num_ftrs, 2)"
   ]
  },
  {
   "cell_type": "code",
   "execution_count": 34,
   "id": "428bcb2f",
   "metadata": {},
   "outputs": [],
   "source": [
    "model_conv = model_conv.to(device)\n",
    "\n",
    "criterion = nn.CrossEntropyLoss()"
   ]
  },
  {
   "cell_type": "code",
   "execution_count": 35,
   "id": "be5c17df",
   "metadata": {},
   "outputs": [],
   "source": [
    "# Observe that only parameters of final layer are being optimized as\n",
    "# opposed to before.\n",
    "\n",
    "optimizer_conv = optim.SGD(model_conv.fc.parameters(), lr=0.001, momentum=0.9)"
   ]
  },
  {
   "cell_type": "code",
   "execution_count": 36,
   "id": "94a83de1",
   "metadata": {},
   "outputs": [
    {
     "name": "stdout",
     "output_type": "stream",
     "text": [
      "Epoch 0/24\n",
      "----------\n",
      "train Loss: 0.8203 Acc: 0.3714\n",
      "val Loss: 0.7238 Acc: 0.5000\n",
      "\n",
      "Epoch 1/24\n",
      "----------\n",
      "train Loss: 0.6743 Acc: 0.6571\n",
      "val Loss: 0.4424 Acc: 0.8000\n",
      "\n",
      "Epoch 2/24\n",
      "----------\n",
      "train Loss: 0.4262 Acc: 0.8000\n",
      "val Loss: 0.3916 Acc: 0.8333\n",
      "\n",
      "Epoch 3/24\n",
      "----------\n",
      "train Loss: 0.4305 Acc: 0.8286\n",
      "val Loss: 0.2669 Acc: 0.9333\n",
      "\n",
      "Epoch 4/24\n",
      "----------\n",
      "train Loss: 0.5023 Acc: 0.7143\n",
      "val Loss: 0.3479 Acc: 0.8333\n",
      "\n",
      "Epoch 5/24\n",
      "----------\n",
      "train Loss: 0.4491 Acc: 0.8000\n",
      "val Loss: 0.2646 Acc: 0.9667\n",
      "\n",
      "Epoch 6/24\n",
      "----------\n",
      "train Loss: 0.5217 Acc: 0.6857\n",
      "val Loss: 0.2651 Acc: 0.9333\n",
      "\n",
      "Epoch 7/24\n",
      "----------\n",
      "train Loss: 0.2797 Acc: 0.8571\n",
      "val Loss: 0.2472 Acc: 0.9333\n",
      "\n",
      "Epoch 8/24\n",
      "----------\n",
      "train Loss: 0.3587 Acc: 0.8286\n",
      "val Loss: 0.2343 Acc: 0.9667\n",
      "\n",
      "Epoch 9/24\n",
      "----------\n",
      "train Loss: 0.3269 Acc: 0.8000\n",
      "val Loss: 0.2541 Acc: 0.9333\n",
      "\n",
      "Epoch 10/24\n",
      "----------\n",
      "train Loss: 0.4612 Acc: 0.7714\n",
      "val Loss: 0.2357 Acc: 0.9333\n",
      "\n",
      "Epoch 11/24\n",
      "----------\n",
      "train Loss: 0.3127 Acc: 0.9429\n",
      "val Loss: 0.2269 Acc: 0.9333\n",
      "\n",
      "Epoch 12/24\n",
      "----------\n",
      "train Loss: 0.2844 Acc: 0.8571\n",
      "val Loss: 0.2305 Acc: 0.9333\n",
      "\n",
      "Epoch 13/24\n",
      "----------\n",
      "train Loss: 0.3625 Acc: 0.8571\n",
      "val Loss: 0.2244 Acc: 0.9667\n",
      "\n",
      "Epoch 14/24\n",
      "----------\n",
      "train Loss: 0.2819 Acc: 0.8571\n",
      "val Loss: 0.2373 Acc: 0.9667\n",
      "\n",
      "Epoch 15/24\n",
      "----------\n",
      "train Loss: 0.3171 Acc: 0.8571\n",
      "val Loss: 0.2294 Acc: 0.9667\n",
      "\n",
      "Epoch 16/24\n",
      "----------\n",
      "train Loss: 0.2765 Acc: 0.8857\n",
      "val Loss: 0.2404 Acc: 0.9667\n",
      "\n",
      "Epoch 17/24\n",
      "----------\n",
      "train Loss: 0.3501 Acc: 0.8286\n",
      "val Loss: 0.2399 Acc: 0.9333\n",
      "\n",
      "Epoch 18/24\n",
      "----------\n",
      "train Loss: 0.2783 Acc: 0.8571\n",
      "val Loss: 0.2376 Acc: 0.9333\n",
      "\n",
      "Epoch 19/24\n",
      "----------\n",
      "train Loss: 0.1678 Acc: 0.9714\n",
      "val Loss: 0.2260 Acc: 0.9667\n",
      "\n",
      "Epoch 20/24\n",
      "----------\n",
      "train Loss: 0.2391 Acc: 0.9143\n",
      "val Loss: 0.2292 Acc: 0.9333\n",
      "\n",
      "Epoch 21/24\n",
      "----------\n",
      "train Loss: 0.2228 Acc: 0.9143\n",
      "val Loss: 0.2495 Acc: 0.9333\n",
      "\n",
      "Epoch 22/24\n",
      "----------\n",
      "train Loss: 0.3039 Acc: 0.8857\n",
      "val Loss: 0.2442 Acc: 0.9333\n",
      "\n",
      "Epoch 23/24\n",
      "----------\n",
      "train Loss: 0.4286 Acc: 0.7714\n",
      "val Loss: 0.2375 Acc: 0.9333\n",
      "\n",
      "Epoch 24/24\n",
      "----------\n",
      "train Loss: 0.3093 Acc: 0.9429\n",
      "val Loss: 0.2414 Acc: 0.9667\n",
      "\n",
      "Training complete in 1m 39s\n",
      "Best val Acc: 0.966667\n"
     ]
    }
   ],
   "source": [
    "# Decay LR by a factor of 0.1 every 7 epochs\n",
    "\n",
    "exp_lr_scheduler = lr_scheduler.StepLR(optimizer_conv, step_size=7, gamma=0.1)\n",
    "\n",
    "model_conv = train_model(model_conv, criterion, optimizer_conv,\n",
    "                         exp_lr_scheduler, num_epochs=25)"
   ]
  },
  {
   "cell_type": "code",
   "execution_count": 37,
   "id": "35777550",
   "metadata": {},
   "outputs": [],
   "source": [
    "# torch_model_archive\n",
    "# upload this archive to boon.ai\n",
    "# use this to identify dressers and nightstands\n",
    "\n",
    "# save the model locally so you can upload it to boon.ai\n",
    "torch.save(model, 'furniture_model.pth')\n",
    "\n",
    "#model = torch.load('furniture_model.pth')"
   ]
  },
  {
   "cell_type": "markdown",
   "id": "0abc47a8",
   "metadata": {},
   "source": [
    "## more on resnet: \n",
    "https://pytorch.org/hub/pytorch_vision_resnet/\n",
    "\n",
    "## source for furniture training images: \n",
    "https://www.kaggle.com/c/day-3-kaggle-competition/data\n",
    "we'll set up our model to differentiate between chairs and swivel chairs using 20 training images for each and 15 validation images for each of our two classes.<br>\n",
    "## pytorch's beginner tutorial:  \n",
    "https://pytorch.org/tutorials/beginner/transfer_learning_tutorial.html\n"
   ]
  },
  {
   "cell_type": "markdown",
   "id": "fcf674d6",
   "metadata": {},
   "source": [
    "This is where you start working with boonAi. We will upload a mixed batch of new pictures that are either chairs or swibvel chairs, upload our pickled model (now stored in the same folder we are working) and apply the model to the problem of classifying the unlabeled images."
   ]
  },
  {
   "cell_type": "code",
   "execution_count": 3,
   "id": "705c2c76",
   "metadata": {},
   "outputs": [],
   "source": [
    "#environment\n",
    "import boonsdk\n",
    "app = boonsdk.app_from_keyfile(\"../../../apikeys/apikey.json\")\n",
    "#unlabeled image file upload\n",
    "#model upload"
   ]
  },
  {
   "cell_type": "code",
   "execution_count": 6,
   "id": "7ef4aba6",
   "metadata": {},
   "outputs": [
    {
     "ename": "BoonSdkSecurityException",
     "evalue": "<BoonSdkRequestException msg=>",
     "output_type": "error",
     "traceback": [
      "\u001b[0;31m---------------------------------------------------------------------------\u001b[0m",
      "\u001b[0;31mBoonSdkSecurityException\u001b[0m                  Traceback (most recent call last)",
      "\u001b[0;32m<ipython-input-6-1787d8f95868>\u001b[0m in \u001b[0;36m<module>\u001b[0;34m\u001b[0m\n\u001b[0;32m----> 1\u001b[0;31m dataset = app.datasets.create_dataset(\n\u001b[0m\u001b[1;32m      2\u001b[0m     \u001b[0;34m\"furniture-dataset\"\u001b[0m\u001b[0;34m,\u001b[0m\u001b[0;34m\u001b[0m\u001b[0;34m\u001b[0m\u001b[0m\n\u001b[1;32m      3\u001b[0m     \u001b[0mboonsdk\u001b[0m\u001b[0;34m.\u001b[0m\u001b[0mDatasetType\u001b[0m\u001b[0;34m.\u001b[0m\u001b[0mClassification\u001b[0m\u001b[0;34m\u001b[0m\u001b[0;34m\u001b[0m\u001b[0m\n\u001b[1;32m      4\u001b[0m )\n",
      "\u001b[0;32m/opt/anaconda3/lib/python3.8/site-packages/boonsdk/app/dataset_app.py\u001b[0m in \u001b[0;36mcreate_dataset\u001b[0;34m(self, name, type, description)\u001b[0m\n\u001b[1;32m     36\u001b[0m             \u001b[0;34m'description'\u001b[0m\u001b[0;34m:\u001b[0m \u001b[0mdescription\u001b[0m\u001b[0;34m\u001b[0m\u001b[0;34m\u001b[0m\u001b[0m\n\u001b[1;32m     37\u001b[0m         }\n\u001b[0;32m---> 38\u001b[0;31m         \u001b[0;32mreturn\u001b[0m \u001b[0mDataset\u001b[0m\u001b[0;34m(\u001b[0m\u001b[0mself\u001b[0m\u001b[0;34m.\u001b[0m\u001b[0mapp\u001b[0m\u001b[0;34m.\u001b[0m\u001b[0mclient\u001b[0m\u001b[0;34m.\u001b[0m\u001b[0mpost\u001b[0m\u001b[0;34m(\u001b[0m\u001b[0;34m'/api/v3/datasets'\u001b[0m\u001b[0;34m,\u001b[0m \u001b[0mbody\u001b[0m\u001b[0;34m)\u001b[0m\u001b[0;34m)\u001b[0m\u001b[0;34m\u001b[0m\u001b[0;34m\u001b[0m\u001b[0m\n\u001b[0m\u001b[1;32m     39\u001b[0m \u001b[0;34m\u001b[0m\u001b[0m\n\u001b[1;32m     40\u001b[0m     \u001b[0;32mdef\u001b[0m \u001b[0mget_dataset\u001b[0m\u001b[0;34m(\u001b[0m\u001b[0mself\u001b[0m\u001b[0;34m,\u001b[0m \u001b[0mid\u001b[0m\u001b[0;34m)\u001b[0m\u001b[0;34m:\u001b[0m\u001b[0;34m\u001b[0m\u001b[0;34m\u001b[0m\u001b[0m\n",
      "\u001b[0;32m/opt/anaconda3/lib/python3.8/site-packages/boonsdk/client.py\u001b[0m in \u001b[0;36mpost\u001b[0;34m(self, path, body, is_json)\u001b[0m\n\u001b[1;32m    274\u001b[0m                 \u001b[0mJSON\u001b[0m \u001b[0mresponse\u001b[0m\u001b[0;34m\u001b[0m\u001b[0;34m\u001b[0m\u001b[0m\n\u001b[1;32m    275\u001b[0m         \"\"\"\n\u001b[0;32m--> 276\u001b[0;31m         \u001b[0;32mreturn\u001b[0m \u001b[0mself\u001b[0m\u001b[0;34m.\u001b[0m\u001b[0m_make_request\u001b[0m\u001b[0;34m(\u001b[0m\u001b[0;34m'post'\u001b[0m\u001b[0;34m,\u001b[0m \u001b[0mpath\u001b[0m\u001b[0;34m,\u001b[0m \u001b[0mbody\u001b[0m\u001b[0;34m,\u001b[0m \u001b[0mis_json\u001b[0m\u001b[0;34m)\u001b[0m\u001b[0;34m\u001b[0m\u001b[0;34m\u001b[0m\u001b[0m\n\u001b[0m\u001b[1;32m    277\u001b[0m \u001b[0;34m\u001b[0m\u001b[0m\n\u001b[1;32m    278\u001b[0m     \u001b[0;32mdef\u001b[0m \u001b[0mput\u001b[0m\u001b[0;34m(\u001b[0m\u001b[0mself\u001b[0m\u001b[0;34m,\u001b[0m \u001b[0mpath\u001b[0m\u001b[0;34m,\u001b[0m \u001b[0mbody\u001b[0m\u001b[0;34m=\u001b[0m\u001b[0;32mNone\u001b[0m\u001b[0;34m,\u001b[0m \u001b[0mis_json\u001b[0m\u001b[0;34m=\u001b[0m\u001b[0;32mTrue\u001b[0m\u001b[0;34m)\u001b[0m\u001b[0;34m:\u001b[0m\u001b[0;34m\u001b[0m\u001b[0;34m\u001b[0m\u001b[0m\n",
      "\u001b[0;32m/opt/anaconda3/lib/python3.8/site-packages/boonsdk/client.py\u001b[0m in \u001b[0;36m_make_request\u001b[0;34m(self, method, path, body, is_json)\u001b[0m\n\u001b[1;32m    400\u001b[0m                 \u001b[0mtime\u001b[0m\u001b[0;34m.\u001b[0m\u001b[0msleep\u001b[0m\u001b[0;34m(\u001b[0m\u001b[0mwait\u001b[0m\u001b[0;34m)\u001b[0m\u001b[0;34m\u001b[0m\u001b[0;34m\u001b[0m\u001b[0m\n\u001b[1;32m    401\u001b[0m \u001b[0;34m\u001b[0m\u001b[0m\n\u001b[0;32m--> 402\u001b[0;31m         \u001b[0;32mreturn\u001b[0m \u001b[0mself\u001b[0m\u001b[0;34m.\u001b[0m\u001b[0m__handle_rsp\u001b[0m\u001b[0;34m(\u001b[0m\u001b[0mrsp\u001b[0m\u001b[0;34m,\u001b[0m \u001b[0mis_json\u001b[0m\u001b[0;34m)\u001b[0m\u001b[0;34m\u001b[0m\u001b[0;34m\u001b[0m\u001b[0m\n\u001b[0m\u001b[1;32m    403\u001b[0m \u001b[0;34m\u001b[0m\u001b[0m\n\u001b[1;32m    404\u001b[0m     \u001b[0;32mdef\u001b[0m \u001b[0m__handle_rsp\u001b[0m\u001b[0;34m(\u001b[0m\u001b[0mself\u001b[0m\u001b[0;34m,\u001b[0m \u001b[0mrsp\u001b[0m\u001b[0;34m,\u001b[0m \u001b[0mis_json\u001b[0m\u001b[0;34m)\u001b[0m\u001b[0;34m:\u001b[0m\u001b[0;34m\u001b[0m\u001b[0;34m\u001b[0m\u001b[0m\n",
      "\u001b[0;32m/opt/anaconda3/lib/python3.8/site-packages/boonsdk/client.py\u001b[0m in \u001b[0;36m__handle_rsp\u001b[0;34m(self, rsp, is_json)\u001b[0m\n\u001b[1;32m    404\u001b[0m     \u001b[0;32mdef\u001b[0m \u001b[0m__handle_rsp\u001b[0m\u001b[0;34m(\u001b[0m\u001b[0mself\u001b[0m\u001b[0;34m,\u001b[0m \u001b[0mrsp\u001b[0m\u001b[0;34m,\u001b[0m \u001b[0mis_json\u001b[0m\u001b[0;34m)\u001b[0m\u001b[0;34m:\u001b[0m\u001b[0;34m\u001b[0m\u001b[0;34m\u001b[0m\u001b[0m\n\u001b[1;32m    405\u001b[0m         \u001b[0;32mif\u001b[0m \u001b[0mrsp\u001b[0m\u001b[0;34m.\u001b[0m\u001b[0mstatus_code\u001b[0m \u001b[0;34m!=\u001b[0m \u001b[0;36m200\u001b[0m\u001b[0;34m:\u001b[0m\u001b[0;34m\u001b[0m\u001b[0;34m\u001b[0m\u001b[0m\n\u001b[0;32m--> 406\u001b[0;31m             \u001b[0mself\u001b[0m\u001b[0;34m.\u001b[0m\u001b[0m__raise_exception\u001b[0m\u001b[0;34m(\u001b[0m\u001b[0mrsp\u001b[0m\u001b[0;34m)\u001b[0m\u001b[0;34m\u001b[0m\u001b[0;34m\u001b[0m\u001b[0m\n\u001b[0m\u001b[1;32m    407\u001b[0m         \u001b[0;32mif\u001b[0m \u001b[0mis_json\u001b[0m \u001b[0;32mand\u001b[0m \u001b[0mlen\u001b[0m\u001b[0;34m(\u001b[0m\u001b[0mrsp\u001b[0m\u001b[0;34m.\u001b[0m\u001b[0mcontent\u001b[0m\u001b[0;34m)\u001b[0m\u001b[0;34m:\u001b[0m\u001b[0;34m\u001b[0m\u001b[0;34m\u001b[0m\u001b[0m\n\u001b[1;32m    408\u001b[0m             \u001b[0mrsp_val\u001b[0m \u001b[0;34m=\u001b[0m \u001b[0mrsp\u001b[0m\u001b[0;34m.\u001b[0m\u001b[0mjson\u001b[0m\u001b[0;34m(\u001b[0m\u001b[0;34m)\u001b[0m\u001b[0;34m\u001b[0m\u001b[0;34m\u001b[0m\u001b[0m\n",
      "\u001b[0;32m/opt/anaconda3/lib/python3.8/site-packages/boonsdk/client.py\u001b[0m in \u001b[0;36m__raise_exception\u001b[0;34m(self, rsp)\u001b[0m\n\u001b[1;32m    425\u001b[0m         \u001b[0;31m# If the status code can't be found, then BoonSdkRequestException is returned.\u001b[0m\u001b[0;34m\u001b[0m\u001b[0;34m\u001b[0m\u001b[0;34m\u001b[0m\u001b[0m\n\u001b[1;32m    426\u001b[0m         \u001b[0mex_class\u001b[0m \u001b[0;34m=\u001b[0m \u001b[0mtranslate_exception\u001b[0m\u001b[0;34m(\u001b[0m\u001b[0mrsp\u001b[0m\u001b[0;34m.\u001b[0m\u001b[0mstatus_code\u001b[0m\u001b[0;34m)\u001b[0m\u001b[0;34m\u001b[0m\u001b[0;34m\u001b[0m\u001b[0m\n\u001b[0;32m--> 427\u001b[0;31m         \u001b[0;32mraise\u001b[0m \u001b[0mex_class\u001b[0m\u001b[0;34m(\u001b[0m\u001b[0mdata\u001b[0m\u001b[0;34m)\u001b[0m\u001b[0;34m\u001b[0m\u001b[0;34m\u001b[0m\u001b[0m\n\u001b[0m\u001b[1;32m    428\u001b[0m \u001b[0;34m\u001b[0m\u001b[0m\n\u001b[1;32m    429\u001b[0m     \u001b[0;32mdef\u001b[0m \u001b[0mget_url\u001b[0m\u001b[0;34m(\u001b[0m\u001b[0mself\u001b[0m\u001b[0;34m,\u001b[0m \u001b[0mpath\u001b[0m\u001b[0;34m,\u001b[0m \u001b[0mbody\u001b[0m\u001b[0;34m=\u001b[0m\u001b[0;32mNone\u001b[0m\u001b[0;34m)\u001b[0m\u001b[0;34m:\u001b[0m\u001b[0;34m\u001b[0m\u001b[0;34m\u001b[0m\u001b[0m\n",
      "\u001b[0;31mBoonSdkSecurityException\u001b[0m: <BoonSdkRequestException msg=>"
     ]
    }
   ],
   "source": [
    "dataset = app.datasets.create_dataset(\n",
    "    \"furniture-dataset\", \n",
    "    boonsdk.DatasetType.Classification\n",
    ")\n",
    "#"
   ]
  },
  {
   "cell_type": "code",
   "execution_count": null,
   "id": "7b0f6032",
   "metadata": {},
   "outputs": [],
   "source": [
    "# import app.assets.batch_upload_directory('./data/unlabeled_furniture')\n",
    "#these assets should be part of the newly named dataset"
   ]
  },
  {
   "cell_type": "code",
   "execution_count": null,
   "id": "07704541",
   "metadata": {},
   "outputs": [],
   "source": [
    "# model = upload_pretrained_model(furniture_model, './furnituremodel.pth')\n",
    "# apply model to newly uploaded images?"
   ]
  }
 ],
 "metadata": {
  "kernelspec": {
   "display_name": "Python 3",
   "language": "python",
   "name": "python3"
  },
  "language_info": {
   "codemirror_mode": {
    "name": "ipython",
    "version": 3
   },
   "file_extension": ".py",
   "mimetype": "text/x-python",
   "name": "python",
   "nbconvert_exporter": "python",
   "pygments_lexer": "ipython3",
   "version": "3.8.2"
  }
 },
 "nbformat": 4,
 "nbformat_minor": 5
}
