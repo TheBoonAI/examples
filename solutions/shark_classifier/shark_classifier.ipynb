{
 "cells": [
  {
   "cell_type": "markdown",
   "id": "vocal-glucose",
   "metadata": {},
   "source": [
    "# Shark Species Classifier\n",
    "\n",
    "For this solution we're goging to use transfer learning to retrain a EfficienNetB1 model to classify images of sharks."
   ]
  },
  {
   "cell_type": "markdown",
   "id": "complete-slope",
   "metadata": {},
   "source": [
    "## Data Preperation\n",
    "\n",
    "Fist, download the shark species Dataset from Kaggle.\n",
    "\n",
    "[Shark Dataset Files](https://www.kaggle.com/larusso94/shark-species/download)\n",
    "\n",
    "Now lets copy the file from our Downloads directory into the current directory.  "
   ]
  },
  {
   "cell_type": "code",
   "execution_count": null,
   "id": "christian-validity",
   "metadata": {},
   "outputs": [],
   "source": [
    "!cp ~/Downloads/archive.zip ."
   ]
  },
  {
   "cell_type": "markdown",
   "id": "hungry-lover",
   "metadata": {},
   "source": [
    "Unzip the file and a \"sharks\" directory should appear."
   ]
  },
  {
   "cell_type": "code",
   "execution_count": null,
   "id": "stable-threat",
   "metadata": {},
   "outputs": [],
   "source": [
    "!unzip archive.zip\n",
    "# Now remove the zip\n",
    "!rm archive.zip"
   ]
  },
  {
   "cell_type": "markdown",
   "id": "varied-apartment",
   "metadata": {},
   "source": [
    "## Setting up BoonSDK\n",
    "\n",
    "We're going to use a BoonSDK command line tool called \"boonctl\", but in order to do that we're going to need\n",
    "to set our API key file as an environment variable.  Be sure your API key is stored in a file called \"apikey.json\"\n",
    "and it's in the current directory."
   ]
  },
  {
   "cell_type": "code",
   "execution_count": null,
   "id": "afraid-impossible",
   "metadata": {},
   "outputs": [],
   "source": [
    "%env BOONAI_APIKEY_FILE = apikey.json"
   ]
  },
  {
   "cell_type": "code",
   "execution_count": null,
   "id": "searching-consent",
   "metadata": {},
   "outputs": [],
   "source": [
    "import boonsdk\n",
    "app = boonsdk.app_from_env()"
   ]
  },
  {
   "cell_type": "markdown",
   "id": "fossil-parliament",
   "metadata": {},
   "source": [
    "Now we're going to the boonctl command line tool to look at the datadata and do 2 things:\n",
    "\n",
    "   * Create a sharks dataset in BoonAI\n",
    "   * Upload and pre-label the bull and whale assets.\n",
    "   \n",
    "What boonctl is doing in this case is looking for a directory structure <dataset name>/<label name>/images and just taking the names of the directories and using them as needed.\n",
    "    \n",
    "The command line args:\n",
    "   * classification: Indicates we're creating a dataset for image classification\n",
    "   * sharks: The directory to look in for files.\n",
    "   * -q : Don't ask questions, just assume yes to all questions\n",
    "   * -l : The sub directories to import. The directory name will be used as a label."
   ]
  },
  {
   "cell_type": "code",
   "execution_count": null,
   "id": "alert-desert",
   "metadata": {},
   "outputs": [],
   "source": [
    "! boonctl datasets import classification sharks -l bull -l whale"
   ]
  },
  {
   "cell_type": "markdown",
   "id": "genetic-community",
   "metadata": {},
   "source": [
    "At this point grab some coffee as your images are uploaded and processed, this can take 5+ minutes as BoonAI exacts and generates metadata for each image.  Once the images are imported we can visualize them here."
   ]
  },
  {
   "cell_type": "code",
   "execution_count": null,
   "id": "australian-assembly",
   "metadata": {},
   "outputs": [],
   "source": [
    "import ipyplot\n",
    "from PIL import Image\n",
    "\n",
    "ds = app.datasets.get_dataset(\"sharks\")\n",
    "\n",
    "# show a sample of our shark pics\n",
    "images = []\n",
    "labels = []\n",
    "search = {\"training_set\": {\"datasetId\": ds.id}, \"size\": 20}\n",
    "for asset in app.assets.search(search):\n",
    "    thumbnail = asset.get_files(category=\"web-proxy\")[0]\n",
    "    images.append(Image.open(app.assets.download_file(thumbnail)))\n",
    "    labels.append(asset.get_attr(\"labels\")[0]['label'])\n",
    "\n",
    "ipyplot.plot_images(images, labels, max_images=20, img_width=150)\n"
   ]
  },
  {
   "cell_type": "markdown",
   "id": "dental-container",
   "metadata": {},
   "source": [
    "## Creating and Training the Model\n",
    "\n",
    "Now lets configure a model to train.  What we're doing here is grabbing a reference to the shark dataset created by the boonctl tool. Then creating Tensorflow Classifier model and linking the shark Dataset to it."
   ]
  },
  {
   "cell_type": "code",
   "execution_count": null,
   "id": "binding-location",
   "metadata": {},
   "outputs": [],
   "source": [
    "model = app.models.create_model(\"shark-species\", boonsdk.ModelType.TF_CLASSIFIER, dataset=ds)"
   ]
  },
  {
   "cell_type": "markdown",
   "id": "hairy-cardiff",
   "metadata": {},
   "source": [
    "Now train the model which returns a training job.  We'll use the wait_on_job() function to wait\n",
    "until training completes."
   ]
  },
  {
   "cell_type": "code",
   "execution_count": null,
   "id": "vietnamese-course",
   "metadata": {},
   "outputs": [],
   "source": [
    "training_job = app.models.train_model(app.models.get_model(\"shark-species\"))"
   ]
  },
  {
   "cell_type": "code",
   "execution_count": null,
   "id": "frank-pavilion",
   "metadata": {},
   "outputs": [],
   "source": [
    "app.jobs.wait_on_job(training_job)"
   ]
  },
  {
   "cell_type": "markdown",
   "id": "hispanic-egypt",
   "metadata": {},
   "source": [
    "## Testing the Model\n",
    "\n",
    "Now that we've trained our model we have to test it.  Incidently you can combine traiing and testing into a single step, however it's good to know how to just run a test in case you end up labeling a few more test assets."
   ]
  },
  {
   "cell_type": "code",
   "execution_count": null,
   "id": "strong-cover",
   "metadata": {},
   "outputs": [],
   "source": [
    "test_job = app.models.test_model(app.models.get_model('shark-species'))\n",
    "app.jobs.wait_on_job(test_job)"
   ]
  },
  {
   "cell_type": "markdown",
   "id": "underlying-perfume",
   "metadata": {},
   "source": [
    "## Viewing Model Test Results\n",
    "\n",
    "Currently the best way to see the results of our test is to use BoonAI Console UI.  Once the test job is done, navigate to the custom model\n",
    "to view the confusin matrix.  Eventually we'll be able to view the Matrix in a notebook.\n",
    "\n",
    "We achieved 100% accuracy identifying shark species!\n",
    "\n",
    "\n",
    "![Model TestResults](test.png \"Model Test Results\")"
   ]
  },
  {
   "cell_type": "code",
   "execution_count": null,
   "id": "selective-lithuania",
   "metadata": {},
   "outputs": [],
   "source": []
  }
 ],
 "metadata": {
  "kernelspec": {
   "display_name": "Python 3",
   "language": "python",
   "name": "python3"
  },
  "language_info": {
   "codemirror_mode": {
    "name": "ipython",
    "version": 3
   },
   "file_extension": ".py",
   "mimetype": "text/x-python",
   "name": "python",
   "nbconvert_exporter": "python",
   "pygments_lexer": "ipython3",
   "version": "3.8.5"
  }
 },
 "nbformat": 4,
 "nbformat_minor": 5
}
